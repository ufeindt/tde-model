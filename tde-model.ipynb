{
 "cells": [
  {
   "cell_type": "code",
   "execution_count": 2,
   "metadata": {
    "collapsed": false
   },
   "outputs": [],
   "source": [
    "import sncosmo\n",
    "from scipy.constants import speed_of_light, Planck, Boltzmann\n",
    "from scipy.interpolate import InterpolatedUnivariateSpline as Spline1d"
   ]
  },
  {
   "cell_type": "code",
   "execution_count": 36,
   "metadata": {
    "collapsed": false
   },
   "outputs": [
    {
     "name": "stdout",
     "output_type": "stream",
     "text": [
      "1.43877735383\n",
      "1.19104295262e+34\n"
     ]
    }
   ],
   "source": [
    "print Planck*speed_of_light/Boltzmann*1e10/1e8\n",
    "print 2*Planck*speed_of_light**2*1e50"
   ]
  },
  {
   "cell_type": "code",
   "execution_count": 37,
   "metadata": {
    "collapsed": false
   },
   "outputs": [],
   "source": [
    "def blackbody(wl, T=2e4):\n",
    "    # wl in Ångströms\n",
    "    # T in Kelvin\n",
    "    # output is not normalized because sncosmo amplitude will be scaled to some arbitrary value\n",
    "    return 1.19104295262e+34 * wl**-5 / (np.exp(1.43877735383e+8 / (wl*T)) - 1)"
   ]
  },
  {
   "cell_type": "code",
   "execution_count": 38,
   "metadata": {
    "collapsed": false
   },
   "outputs": [
    {
     "data": {
      "text/plain": [
       "[<matplotlib.lines.Line2D at 0x7f5a5f96b750>]"
      ]
     },
     "execution_count": 38,
     "metadata": {},
     "output_type": "execute_result"
    },
    {
     "data": {
      "image/png": "[encoded data removed]",
      "text/plain": [
       "<matplotlib.figure.Figure at 0x7f5a5fb14190>"
      ]
     },
     "metadata": {},
     "output_type": "display_data"
    }
   ],
   "source": [
    "wl = np.linspace(100, 10000, 100)\n",
    "plt.plot(wl, blackbody(wl))"
   ]
  },
  {
   "cell_type": "code",
   "execution_count": 150,
   "metadata": {
    "collapsed": false
   },
   "outputs": [],
   "source": [
    "from sncosmo import Source\n",
    "\n",
    "class BlackBodySource(Source):\n",
    "    \"\"\"A simple spectral source for a transient with a \n",
    "    black-body spectrum of constant temperature\n",
    "    The spectral flux density of this model is given by\n",
    "    .. math::\n",
    "       F(t, \\lambda) = A \\\\times LC(t / s) \\\\times B(\\lambda, T)\n",
    "    where _A_ is the amplitude, _s_ is the \"stretch\" and \n",
    "    _T_ is the black-body temperature; LC is a dimensionless \n",
    "    lightcurve that defines the time evolution of the flux \n",
    "    while B is the black-body spectrum.\n",
    "    Parameters\n",
    "    ----------\n",
    "    phase : `~numpy.ndarray`\n",
    "        Phases in days.\n",
    "    flux : `~numpy.ndarray`\n",
    "        Model spectral flux density in arbitrary units.\n",
    "        Must have shape `(num_phases)`.\n",
    "    \"\"\"\n",
    "\n",
    "    _param_names = ['amplitude', 's', 'T']\n",
    "    param_names_latex = ['A', 's', 'T']\n",
    "\n",
    "    def __init__(self, phase, flux, name=None, version=None):\n",
    "        self.name = name\n",
    "        self.version = version\n",
    "        self._phase = phase\n",
    "        self._parameters = np.array([1., 1., 2e4])\n",
    "        self._model_lc = Spline1d(phase, flux, k=2)\n",
    "\n",
    "    def minwave(self):  \n",
    "        return 1e-100\n",
    "\n",
    "    def maxwave(self):  \n",
    "        return 1e100\n",
    "    \n",
    "    def minphase(self):\n",
    "        return self._parameters[1] * self._phase[0]\n",
    "\n",
    "    def maxphase(self):\n",
    "        return self._parameters[1] * self._phase[-1]\n",
    "\n",
    "    def _flux(self, phase, wave):\n",
    "        return np.outer(self._parameters[0] *\n",
    "                        self._model_lc(phase / self._parameters[1]),\n",
    "                        blackbody(wave, self._parameters[2]))"
   ]
  },
  {
   "cell_type": "code",
   "execution_count": 151,
   "metadata": {
    "collapsed": true
   },
   "outputs": [],
   "source": [
    "template = np.genfromtxt('14aon_smoothed_lc.dat')"
   ]
  },
  {
   "cell_type": "code",
   "execution_count": 155,
   "metadata": {
    "collapsed": false
   },
   "outputs": [],
   "source": [
    "source = BlackBodySource(template[:,0], template[:,1])\n",
    "model = sncosmo.Model(source=source)\n",
    "model.set(z=0.01)\n",
    "model.set_source_peakabsmag(-18,'sdssg','ab')"
   ]
  },
  {
   "cell_type": "code",
   "execution_count": 156,
   "metadata": {
    "collapsed": false
   },
   "outputs": [
    {
     "data": {
      "text/plain": [
       "array([ 15.52482165,  15.54702543])"
      ]
     },
     "execution_count": 156,
     "metadata": {},
     "output_type": "execute_result"
    }
   ],
   "source": [
    "model.bandmag('sdssr', 'ab', [0,10])"
   ]
  },
  {
   "cell_type": "code",
   "execution_count": 161,
   "metadata": {
    "collapsed": false
   },
   "outputs": [
    {
     "data": {
      "text/plain": [
       "<matplotlib.text.Text at 0x7f5a5e31ce10>"
      ]
     },
     "execution_count": 161,
     "metadata": {},
     "output_type": "execute_result"
    },
    {
     "data": {
      "image/png": "[encoded data removed]",
      "text/plain": [
       "<matplotlib.figure.Figure at 0x7f5a5dad1190>"
      ]
     },
     "metadata": {},
     "output_type": "display_data"
    }
   ],
   "source": [
    "p = np.linspace(-50,250,100)\n",
    "plt.plot(p, model.bandmag('sdssg', 'ab', p), 'g-')\n",
    "plt.plot(p, model.bandmag('sdssr', 'ab', p), 'r-')\n",
    "plt.gca().invert_yaxis()\n",
    "plt.xlabel('phase')\n",
    "plt.ylabel('mag')"
   ]
  },
  {
   "cell_type": "code",
   "execution_count": 173,
   "metadata": {
    "collapsed": false
   },
   "outputs": [
    {
     "name": "stdout",
     "output_type": "stream",
     "text": [
      "T =   5000 K: g-r =  0.72\n",
      "T =  10000 K: g-r = -0.02\n",
      "T =  20000 K: g-r = -0.35\n",
      "T =  50000 K: g-r = -0.52\n",
      "T = 100000 K: g-r = -0.56\n",
      "T = 500000 K: g-r = -0.60\n"
     ]
    }
   ],
   "source": [
    "# g-r colors for different temperatures (supposedto be < -0.5?)\n",
    "for T in [5e3, 1e4, 2e4, 5e4, 1e5, 5e5]:\n",
    "    model.set(T=T)\n",
    "    gr = model.bandmag('sdssg', 'ab', 0) - model.bandmag('sdssr', 'ab', 0)\n",
    "    print 'T = {:>6.0f} K: g-r = {:>5.2f}'.format(T, gr)\n",
    "model.set(T=2e4)"
   ]
  },
  {
   "cell_type": "code",
   "execution_count": null,
   "metadata": {
    "collapsed": true
   },
   "outputs": [],
   "source": []
  }
 ],
 "metadata": {
  "kernelspec": {
   "display_name": "Python 2",
   "language": "python",
   "name": "python2"
  },
  "language_info": {
   "codemirror_mode": {
    "name": "ipython",
    "version": 2
   },
   "file_extension": ".py",
   "mimetype": "text/x-python",
   "name": "python",
   "nbconvert_exporter": "python",
   "pygments_lexer": "ipython2",
   "version": "2.7.6"
  }
 },
 "nbformat": 4,
 "nbformat_minor": 0
}
